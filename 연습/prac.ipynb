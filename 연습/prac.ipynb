{
 "cells": [
  {
   "cell_type": "code",
   "execution_count": 1,
   "id": "2db7fd57",
   "metadata": {},
   "outputs": [],
   "source": [
    "import pandas as pd"
   ]
  },
  {
   "cell_type": "code",
   "execution_count": 2,
   "id": "2ff1adcd",
   "metadata": {},
   "outputs": [
    {
     "data": {
      "text/html": [
       "<div>\n",
       "<style scoped>\n",
       "    .dataframe tbody tr th:only-of-type {\n",
       "        vertical-align: middle;\n",
       "    }\n",
       "\n",
       "    .dataframe tbody tr th {\n",
       "        vertical-align: top;\n",
       "    }\n",
       "\n",
       "    .dataframe thead th {\n",
       "        text-align: right;\n",
       "    }\n",
       "</style>\n",
       "<table border=\"1\" class=\"dataframe\">\n",
       "  <thead>\n",
       "    <tr style=\"text-align: right;\">\n",
       "      <th></th>\n",
       "      <th>title</th>\n",
       "      <th>channelTitle</th>\n",
       "      <th>categoryId</th>\n",
       "      <th>view_count</th>\n",
       "      <th>likes</th>\n",
       "      <th>dislikes</th>\n",
       "      <th>comment_count</th>\n",
       "      <th>channelId</th>\n",
       "      <th>trending_date2</th>\n",
       "    </tr>\n",
       "  </thead>\n",
       "  <tbody>\n",
       "    <tr>\n",
       "      <th>0</th>\n",
       "      <td>[신병] 물자창고</td>\n",
       "      <td>장삐쭈</td>\n",
       "      <td>23</td>\n",
       "      <td>1893473</td>\n",
       "      <td>38249</td>\n",
       "      <td>730</td>\n",
       "      <td>8595</td>\n",
       "      <td>UChbE5OZQ6dRHECsX0tEPEZQ</td>\n",
       "      <td>2021-01-01</td>\n",
       "    </tr>\n",
       "    <tr>\n",
       "      <th>1</th>\n",
       "      <td>RAIN(비) - 나로 바꾸자 Switch to me (duet with JYP) MV</td>\n",
       "      <td>RAIN's Official Channel</td>\n",
       "      <td>10</td>\n",
       "      <td>2600864</td>\n",
       "      <td>0</td>\n",
       "      <td>0</td>\n",
       "      <td>20129</td>\n",
       "      <td>UCxXgIeE5hxWxHG6dz9Scg2w</td>\n",
       "      <td>2021-01-01</td>\n",
       "    </tr>\n",
       "    <tr>\n",
       "      <th>2</th>\n",
       "      <td>2020년 제야의 종 온라인 타종행사 | 보신각 현장 행사는 진행하지 않습니다.</td>\n",
       "      <td>서울시 · Seoul</td>\n",
       "      <td>29</td>\n",
       "      <td>347049</td>\n",
       "      <td>3564</td>\n",
       "      <td>120</td>\n",
       "      <td>178</td>\n",
       "      <td>UCZUPZW5idAxYp-Asj__lVAA</td>\n",
       "      <td>2021-01-01</td>\n",
       "    </tr>\n",
       "    <tr>\n",
       "      <th>3</th>\n",
       "      <td>고기남자의 칠면조 파티</td>\n",
       "      <td>고기남자 MeatMan</td>\n",
       "      <td>26</td>\n",
       "      <td>528458</td>\n",
       "      <td>15372</td>\n",
       "      <td>280</td>\n",
       "      <td>3470</td>\n",
       "      <td>UCT3CumbFIJiW33uq0UI3zlg</td>\n",
       "      <td>2021-01-01</td>\n",
       "    </tr>\n",
       "    <tr>\n",
       "      <th>4</th>\n",
       "      <td>골목 3mc를 분노하게 만든 마음고생이 심했을 공릉 백반집 사장님의 푸념?! [예능...</td>\n",
       "      <td>스브스밥집</td>\n",
       "      <td>24</td>\n",
       "      <td>494904</td>\n",
       "      <td>3918</td>\n",
       "      <td>111</td>\n",
       "      <td>3142</td>\n",
       "      <td>UCdWgRSfttvDucq4ApcCg5Mw</td>\n",
       "      <td>2021-01-01</td>\n",
       "    </tr>\n",
       "  </tbody>\n",
       "</table>\n",
       "</div>"
      ],
      "text/plain": [
       "                                               title             channelTitle  \\\n",
       "0                                          [신병] 물자창고                      장삐쭈   \n",
       "1   RAIN(비) - 나로 바꾸자 Switch to me (duet with JYP) MV  RAIN's Official Channel   \n",
       "2       2020년 제야의 종 온라인 타종행사 | 보신각 현장 행사는 진행하지 않습니다.              서울시 · Seoul   \n",
       "3                                       고기남자의 칠면조 파티             고기남자 MeatMan   \n",
       "4  골목 3mc를 분노하게 만든 마음고생이 심했을 공릉 백반집 사장님의 푸념?! [예능...                    스브스밥집   \n",
       "\n",
       "   categoryId  view_count  likes  dislikes  comment_count  \\\n",
       "0          23     1893473  38249       730           8595   \n",
       "1          10     2600864      0         0          20129   \n",
       "2          29      347049   3564       120            178   \n",
       "3          26      528458  15372       280           3470   \n",
       "4          24      494904   3918       111           3142   \n",
       "\n",
       "                  channelId trending_date2  \n",
       "0  UChbE5OZQ6dRHECsX0tEPEZQ     2021-01-01  \n",
       "1  UCxXgIeE5hxWxHG6dz9Scg2w     2021-01-01  \n",
       "2  UCZUPZW5idAxYp-Asj__lVAA     2021-01-01  \n",
       "3  UCT3CumbFIJiW33uq0UI3zlg     2021-01-01  \n",
       "4  UCdWgRSfttvDucq4ApcCg5Mw     2021-01-01  "
      ]
     },
     "execution_count": 2,
     "metadata": {},
     "output_type": "execute_result"
    }
   ],
   "source": [
    "df = pd.read_csv(\"https://raw.githubusercontent.com/Datamanim/datarepo/main/youtube/youtube.csv\",index_col=0)\n",
    "df.head()"
   ]
  },
  {
   "cell_type": "code",
   "execution_count": 3,
   "id": "c5b90f14",
   "metadata": {},
   "outputs": [
    {
     "data": {
      "text/plain": [
       "Index(['title', 'channelTitle', 'categoryId', 'view_count', 'likes',\n",
       "       'dislikes', 'comment_count', 'channelId', 'trending_date2'],\n",
       "      dtype='object')"
      ]
     },
     "execution_count": 3,
     "metadata": {},
     "output_type": "execute_result"
    }
   ],
   "source": [
    "df.columns"
   ]
  },
  {
   "cell_type": "markdown",
   "id": "06244db9",
   "metadata": {},
   "source": [
    "Q) 인기동영상 제작 횟수가 많은 채널 상위 10개명을 출력하라 (날짜기준,중복포함)"
   ]
  },
  {
   "cell_type": "code",
   "execution_count": 4,
   "id": "c0745b14",
   "metadata": {
    "scrolled": true
   },
   "outputs": [
    {
     "name": "stdout",
     "output_type": "stream",
     "text": [
      "['장삐쭈', '총몇명', '파뿌리', '짤툰', '런닝맨 - 스브스 공식 채널', '엠뚜루마뚜루 : MBC 공식 종합 채널', 'SPOTV', '채널 십오야', '이과장', 'BANGTANTV']\n"
     ]
    }
   ],
   "source": [
    "print(list(df.loc[df.channelId.isin(df.channelId.value_counts().head(10).index), 'channelTitle'].unique()))"
   ]
  },
  {
   "cell_type": "markdown",
   "id": "d40d32f7",
   "metadata": {},
   "source": [
    "논란으로 인기동영상이 된 케이스를 확인하고 싶다. dislikes수가 like 수보다 높은 동영상을 제작한 채널을 모두 출력하라"
   ]
  },
  {
   "cell_type": "code",
   "execution_count": 5,
   "id": "14e6728e",
   "metadata": {
    "scrolled": true
   },
   "outputs": [
    {
     "name": "stdout",
     "output_type": "stream",
     "text": [
      "['핫도그TV', 'ASMR 애정TV', '하얀트리HayanTree', '양팡 YangPang', '철구형 (CHULTUBE)', '왜냐맨하우스', '(MUTUBE)와꾸대장봉준', '오메킴TV', '육지담', 'MapleStory_KR', 'ROAD FIGHTING CHAMPIONSHIP', '사나이 김기훈', '나혼자산다 STUDIO', 'Gen.G esports']\n"
     ]
    }
   ],
   "source": [
    "print(list(df[df.dislikes > df.likes].channelTitle.unique()))"
   ]
  },
  {
   "cell_type": "markdown",
   "id": "8749ab29",
   "metadata": {},
   "source": [
    "채널명을 바꾼 케이스가 있는지 확인하고 싶다. channelId의 경우 고유값이므로 이를 통해 채널명을 한번이라도 바꾼 채널의 갯수를 구하여라"
   ]
  },
  {
   "cell_type": "code",
   "execution_count": 6,
   "id": "84a70a09",
   "metadata": {},
   "outputs": [
    {
     "data": {
      "text/plain": [
       "71"
      ]
     },
     "execution_count": 6,
     "metadata": {},
     "output_type": "execute_result"
    }
   ],
   "source": [
    "changed = df[['channelId', 'channelTitle']].drop_duplicates().channelId.value_counts()\n",
    "\n",
    "changed = changed[changed >1]\n",
    "\n",
    "len(changed)\n"
   ]
  },
  {
   "cell_type": "markdown",
   "id": "61b6044c",
   "metadata": {},
   "source": [
    "일요일에 인기있었던 영상들중 가장많은 영상 종류(categoryId)는 무엇인가?"
   ]
  },
  {
   "cell_type": "code",
   "execution_count": 7,
   "id": "53c3ac82",
   "metadata": {},
   "outputs": [
    {
     "data": {
      "text/plain": [
       "Index(['title', 'channelTitle', 'categoryId', 'view_count', 'likes',\n",
       "       'dislikes', 'comment_count', 'channelId', 'trending_date2'],\n",
       "      dtype='object')"
      ]
     },
     "execution_count": 7,
     "metadata": {},
     "output_type": "execute_result"
    }
   ],
   "source": [
    "df.columns"
   ]
  },
  {
   "cell_type": "code",
   "execution_count": 8,
   "id": "788b994a",
   "metadata": {},
   "outputs": [],
   "source": [
    "df['trending_date2'] = pd.to_datetime(df.trending_date2)"
   ]
  },
  {
   "cell_type": "code",
   "execution_count": 9,
   "id": "e41928dd",
   "metadata": {},
   "outputs": [
    {
     "data": {
      "text/plain": [
       "0         Friday\n",
       "1         Friday\n",
       "2         Friday\n",
       "3         Friday\n",
       "4         Friday\n",
       "          ...   \n",
       "60394    Tuesday\n",
       "60395    Tuesday\n",
       "60396    Tuesday\n",
       "60397    Tuesday\n",
       "60398    Tuesday\n",
       "Name: trending_date2, Length: 60399, dtype: object"
      ]
     },
     "execution_count": 9,
     "metadata": {},
     "output_type": "execute_result"
    }
   ],
   "source": [
    "df.trending_date2.dt.day_name()"
   ]
  },
  {
   "cell_type": "code",
   "execution_count": 10,
   "id": "07d7e5bd",
   "metadata": {},
   "outputs": [
    {
     "name": "stdout",
     "output_type": "stream",
     "text": [
      "24\n"
     ]
    }
   ],
   "source": [
    "print(df.loc[df.trending_date2.dt.day_name() == 'Sunday', 'categoryId'].value_counts().index[0])"
   ]
  },
  {
   "cell_type": "markdown",
   "id": "c391544c",
   "metadata": {},
   "source": [
    "각 요일별 인기 영상들의 categoryId는 각각 몇개 씩인지 하나의 데이터 프레임으로 표현하라"
   ]
  },
  {
   "cell_type": "code",
   "execution_count": 11,
   "id": "b88ac050",
   "metadata": {},
   "outputs": [
    {
     "data": {
      "text/html": [
       "<div>\n",
       "<style scoped>\n",
       "    .dataframe tbody tr th:only-of-type {\n",
       "        vertical-align: middle;\n",
       "    }\n",
       "\n",
       "    .dataframe tbody tr th {\n",
       "        vertical-align: top;\n",
       "    }\n",
       "\n",
       "    .dataframe thead th {\n",
       "        text-align: right;\n",
       "    }\n",
       "</style>\n",
       "<table border=\"1\" class=\"dataframe\">\n",
       "  <thead>\n",
       "    <tr style=\"text-align: right;\">\n",
       "      <th></th>\n",
       "      <th></th>\n",
       "      <th>0</th>\n",
       "    </tr>\n",
       "    <tr>\n",
       "      <th>categoryId</th>\n",
       "      <th>trending_date2</th>\n",
       "      <th></th>\n",
       "    </tr>\n",
       "  </thead>\n",
       "  <tbody>\n",
       "    <tr>\n",
       "      <th rowspan=\"5\" valign=\"top\">1</th>\n",
       "      <th>2021-02-24</th>\n",
       "      <td>14</td>\n",
       "    </tr>\n",
       "    <tr>\n",
       "      <th>2021-06-13</th>\n",
       "      <td>14</td>\n",
       "    </tr>\n",
       "    <tr>\n",
       "      <th>2021-06-14</th>\n",
       "      <td>14</td>\n",
       "    </tr>\n",
       "    <tr>\n",
       "      <th>2021-05-31</th>\n",
       "      <td>14</td>\n",
       "    </tr>\n",
       "    <tr>\n",
       "      <th>2021-06-12</th>\n",
       "      <td>13</td>\n",
       "    </tr>\n",
       "    <tr>\n",
       "      <th>...</th>\n",
       "      <th>...</th>\n",
       "      <td>...</td>\n",
       "    </tr>\n",
       "    <tr>\n",
       "      <th rowspan=\"5\" valign=\"top\">29</th>\n",
       "      <th>2021-01-07</th>\n",
       "      <td>1</td>\n",
       "    </tr>\n",
       "    <tr>\n",
       "      <th>2021-01-05</th>\n",
       "      <td>1</td>\n",
       "    </tr>\n",
       "    <tr>\n",
       "      <th>2021-01-04</th>\n",
       "      <td>1</td>\n",
       "    </tr>\n",
       "    <tr>\n",
       "      <th>2021-01-03</th>\n",
       "      <td>1</td>\n",
       "    </tr>\n",
       "    <tr>\n",
       "      <th>2021-10-08</th>\n",
       "      <td>1</td>\n",
       "    </tr>\n",
       "  </tbody>\n",
       "</table>\n",
       "<p>3881 rows × 1 columns</p>\n",
       "</div>"
      ],
      "text/plain": [
       "                            0\n",
       "categoryId trending_date2    \n",
       "1          2021-02-24      14\n",
       "           2021-06-13      14\n",
       "           2021-06-14      14\n",
       "           2021-05-31      14\n",
       "           2021-06-12      13\n",
       "...                        ..\n",
       "29         2021-01-07       1\n",
       "           2021-01-05       1\n",
       "           2021-01-04       1\n",
       "           2021-01-03       1\n",
       "           2021-10-08       1\n",
       "\n",
       "[3881 rows x 1 columns]"
      ]
     },
     "execution_count": 11,
     "metadata": {},
     "output_type": "execute_result"
    }
   ],
   "source": [
    "df[['categoryId', 'trending_date2']].groupby('categoryId').value_counts().to_frame()"
   ]
  },
  {
   "cell_type": "markdown",
   "id": "e6d980fd",
   "metadata": {},
   "source": [
    "댓글의 수로 (comment_count) 영상 반응에 대한 판단을 할 수 있다. viewcount대비 댓글수가 가장 높은 영상을 확인하라 (view_count값이 0인 경우는 제외한다)"
   ]
  },
  {
   "cell_type": "code",
   "execution_count": 27,
   "id": "d46ceb3d",
   "metadata": {},
   "outputs": [
    {
     "name": "stdout",
     "output_type": "stream",
     "text": [
      "60분 동안 댓글이 달리지 않으면, 영상이 삭제됩니다. (챌린지)\n"
     ]
    },
    {
     "name": "stderr",
     "output_type": "stream",
     "text": [
      "C:\\Users\\yeonggyun.kim\\AppData\\Local\\Temp\\ipykernel_39224\\148688705.py:2: SettingWithCopyWarning: \n",
      "A value is trying to be set on a copy of a slice from a DataFrame.\n",
      "Try using .loc[row_indexer,col_indexer] = value instead\n",
      "\n",
      "See the caveats in the documentation: https://pandas.pydata.org/pandas-docs/stable/user_guide/indexing.html#returning-a-view-versus-a-copy\n",
      "  my_df['reaction_ratio'] = my_df.comment_count / my_df.view_count\n"
     ]
    }
   ],
   "source": [
    "my_df = df[~(df.view_count == 0)]\n",
    "my_df['reaction_ratio'] = my_df.comment_count / my_df.view_count\n",
    "my_df.reaction_ratio\n",
    "\n",
    "print(my_df.loc[my_df.reaction_ratio.sort_values(ascending = False).index[0],].title)"
   ]
  },
  {
   "cell_type": "markdown",
   "id": "a8474d7d",
   "metadata": {},
   "source": [
    "댓글의 수로 (comment_count) 영상 반응에 대한 판단을 할 수 있다.viewcount대비 댓글수가 가장 낮은 영상을 확인하라 (view_counts, ratio값이 0인경우는 제외한다.)"
   ]
  },
  {
   "cell_type": "code",
   "execution_count": 36,
   "id": "f450277a",
   "metadata": {},
   "outputs": [
    {
     "data": {
      "text/plain": [
       "46005    Join the BTS #PermissiontoDance Challenge only...\n",
       "46210    Join the BTS #PermissiontoDance Challenge only...\n",
       "51798                   Butter (feat. Megan Thee Stallion)\n",
       "51579                   Butter (feat. Megan Thee Stallion)\n",
       "51353                   Butter (feat. Megan Thee Stallion)\n",
       "                               ...                        \n",
       "51494                 60분 동안 댓글이 달리지 않으면, 영상이 삭제됩니다. (챌린지)\n",
       "52786                 60분 동안 댓글이 달리지 않으면, 영상이 삭제됩니다. (챌린지)\n",
       "51264                 60분 동안 댓글이 달리지 않으면, 영상이 삭제됩니다. (챌린지)\n",
       "51047                 60분 동안 댓글이 달리지 않으면, 영상이 삭제됩니다. (챌린지)\n",
       "50830                 60분 동안 댓글이 달리지 않으면, 영상이 삭제됩니다. (챌린지)\n",
       "Name: title, Length: 59609, dtype: object"
      ]
     },
     "execution_count": 36,
     "metadata": {},
     "output_type": "execute_result"
    }
   ],
   "source": [
    "my_df[~(my_df.reaction_ratio == 0)].sort_values(by='reaction_ratio',ascending = True).title"
   ]
  },
  {
   "cell_type": "markdown",
   "id": "22900d13",
   "metadata": {},
   "source": [
    "like 대비 dislike의 수가 가장 적은 영상은 무엇인가? (like, dislike 값이 0인경우는 제외한다)"
   ]
  },
  {
   "cell_type": "code",
   "execution_count": 68,
   "id": "4c360b87",
   "metadata": {
    "scrolled": false
   },
   "outputs": [
    {
     "data": {
      "text/plain": [
       "title                            [신병] 물자창고\n",
       "channelTitle                           장삐쭈\n",
       "categoryId                              23\n",
       "view_count                         1893473\n",
       "likes                                38249\n",
       "dislikes                               730\n",
       "comment_count                         8595\n",
       "channelId         UChbE5OZQ6dRHECsX0tEPEZQ\n",
       "trending_date2         2021-01-01 00:00:00\n",
       "Name: 0, dtype: object"
      ]
     },
     "execution_count": 68,
     "metadata": {},
     "output_type": "execute_result"
    }
   ],
   "source": [
    "ratio = (df.likes / df.likes).dropna().sort_values()\n",
    "\n",
    "df.iloc[ratio[ratio!=0].sort_values().index[0]]\n"
   ]
  },
  {
   "cell_type": "code",
   "execution_count": 97,
   "id": "02b6bcba",
   "metadata": {
    "scrolled": false
   },
   "outputs": [
    {
     "name": "stdout",
     "output_type": "stream",
     "text": [
      "title             [줌터뷰] *최초공개* 사부작즈🐰🐶의 비공식 이름은 아이라인즈? 꿀조합 티키타카 가...\n",
      "channelTitle                                      CosmopolitanKorea\n",
      "categoryId                                                       26\n",
      "view_count                                                   122354\n",
      "likes                                                         19104\n",
      "dislikes                                                         10\n",
      "comment_count                                                   851\n",
      "channelId                                  UCVWr5QkOkYupX6fEELMNvuQ\n",
      "trending_date2                                  2021-02-27 00:00:00\n",
      "Name: 11477, dtype: object\n"
     ]
    }
   ],
   "source": [
    "temp = df[(df.likes !=0) & (df.dislikes!=0)]\n",
    "\n",
    "ind = (temp.likes/ temp.dislikes).sort_values(ascending=False).index[0]\n",
    "\n",
    "ans = df.iloc[ind]\n",
    "print(ans)"
   ]
  },
  {
   "cell_type": "markdown",
   "id": "6ac724fe",
   "metadata": {},
   "source": [
    "답을 낼때는 원래 데이터 프레임으로 내야 한다."
   ]
  },
  {
   "cell_type": "markdown",
   "id": "bd1feab0",
   "metadata": {},
   "source": [
    "가장많은 트렌드 영상을 제작한 채널의 이름은 무엇인가? (날짜기준, 중복포함)"
   ]
  },
  {
   "cell_type": "code",
   "execution_count": 109,
   "id": "afb7a0b7",
   "metadata": {},
   "outputs": [
    {
     "data": {
      "text/html": [
       "<div>\n",
       "<style scoped>\n",
       "    .dataframe tbody tr th:only-of-type {\n",
       "        vertical-align: middle;\n",
       "    }\n",
       "\n",
       "    .dataframe tbody tr th {\n",
       "        vertical-align: top;\n",
       "    }\n",
       "\n",
       "    .dataframe thead th {\n",
       "        text-align: right;\n",
       "    }\n",
       "</style>\n",
       "<table border=\"1\" class=\"dataframe\">\n",
       "  <thead>\n",
       "    <tr style=\"text-align: right;\">\n",
       "      <th></th>\n",
       "      <th></th>\n",
       "      <th></th>\n",
       "      <th></th>\n",
       "      <th></th>\n",
       "      <th></th>\n",
       "      <th></th>\n",
       "      <th></th>\n",
       "      <th></th>\n",
       "      <th>0</th>\n",
       "    </tr>\n",
       "    <tr>\n",
       "      <th>title</th>\n",
       "      <th>trending_date2</th>\n",
       "      <th>channelTitle</th>\n",
       "      <th>categoryId</th>\n",
       "      <th>view_count</th>\n",
       "      <th>likes</th>\n",
       "      <th>dislikes</th>\n",
       "      <th>comment_count</th>\n",
       "      <th>channelId</th>\n",
       "      <th></th>\n",
       "    </tr>\n",
       "  </thead>\n",
       "  <tbody>\n",
       "    <tr>\n",
       "      <th rowspan=\"5\" valign=\"top\">#1. [슈퍼리그] 챔스 종결? 드디어 창설된 슈퍼리그, 형태와 방식은?</th>\n",
       "      <th>2021-04-20</th>\n",
       "      <th>이스타TV</th>\n",
       "      <th>17</th>\n",
       "      <th>410982</th>\n",
       "      <th>7024</th>\n",
       "      <th>143</th>\n",
       "      <th>2901</th>\n",
       "      <th>UCn9mJ4htO64-1osMWYu9k5Q</th>\n",
       "      <td>1</td>\n",
       "    </tr>\n",
       "    <tr>\n",
       "      <th>2021-04-21</th>\n",
       "      <th>이스타TV</th>\n",
       "      <th>17</th>\n",
       "      <th>438659</th>\n",
       "      <th>7132</th>\n",
       "      <th>163</th>\n",
       "      <th>3061</th>\n",
       "      <th>UCn9mJ4htO64-1osMWYu9k5Q</th>\n",
       "      <td>1</td>\n",
       "    </tr>\n",
       "    <tr>\n",
       "      <th>2021-04-22</th>\n",
       "      <th>이스타TV</th>\n",
       "      <th>17</th>\n",
       "      <th>445622</th>\n",
       "      <th>7142</th>\n",
       "      <th>168</th>\n",
       "      <th>3067</th>\n",
       "      <th>UCn9mJ4htO64-1osMWYu9k5Q</th>\n",
       "      <td>1</td>\n",
       "    </tr>\n",
       "    <tr>\n",
       "      <th>2021-04-23</th>\n",
       "      <th>이스타TV</th>\n",
       "      <th>17</th>\n",
       "      <th>447467</th>\n",
       "      <th>7149</th>\n",
       "      <th>169</th>\n",
       "      <th>3064</th>\n",
       "      <th>UCn9mJ4htO64-1osMWYu9k5Q</th>\n",
       "      <td>1</td>\n",
       "    </tr>\n",
       "    <tr>\n",
       "      <th>2021-04-24</th>\n",
       "      <th>이스타TV</th>\n",
       "      <th>17</th>\n",
       "      <th>448458</th>\n",
       "      <th>7157</th>\n",
       "      <th>169</th>\n",
       "      <th>3080</th>\n",
       "      <th>UCn9mJ4htO64-1osMWYu9k5Q</th>\n",
       "      <td>1</td>\n",
       "    </tr>\n",
       "    <tr>\n",
       "      <th>...</th>\n",
       "      <th>...</th>\n",
       "      <th>...</th>\n",
       "      <th>...</th>\n",
       "      <th>...</th>\n",
       "      <th>...</th>\n",
       "      <th>...</th>\n",
       "      <th>...</th>\n",
       "      <th>...</th>\n",
       "      <td>...</td>\n",
       "    </tr>\n",
       "    <tr>\n",
       "      <th rowspan=\"5\" valign=\"top\">🩸괴담회에 어서오세요🩸: 첫 번째 이야기 | WELCOME TO NCT’S HORROR NIGHTS</th>\n",
       "      <th>2021-08-28</th>\n",
       "      <th>NCT</th>\n",
       "      <th>10</th>\n",
       "      <th>2807716</th>\n",
       "      <th>444897</th>\n",
       "      <th>1382</th>\n",
       "      <th>22544</th>\n",
       "      <th>UCwgtORdDtUKhpjE1VBv6XfA</th>\n",
       "      <td>1</td>\n",
       "    </tr>\n",
       "    <tr>\n",
       "      <th>2021-08-29</th>\n",
       "      <th>NCT</th>\n",
       "      <th>10</th>\n",
       "      <th>2853725</th>\n",
       "      <th>448509</th>\n",
       "      <th>1412</th>\n",
       "      <th>22618</th>\n",
       "      <th>UCwgtORdDtUKhpjE1VBv6XfA</th>\n",
       "      <td>1</td>\n",
       "    </tr>\n",
       "    <tr>\n",
       "      <th>2021-08-30</th>\n",
       "      <th>NCT</th>\n",
       "      <th>10</th>\n",
       "      <th>2883483</th>\n",
       "      <th>450691</th>\n",
       "      <th>1410</th>\n",
       "      <th>22700</th>\n",
       "      <th>UCwgtORdDtUKhpjE1VBv6XfA</th>\n",
       "      <td>1</td>\n",
       "    </tr>\n",
       "    <tr>\n",
       "      <th>2021-08-31</th>\n",
       "      <th>NCT</th>\n",
       "      <th>10</th>\n",
       "      <th>2906631</th>\n",
       "      <th>452644</th>\n",
       "      <th>1414</th>\n",
       "      <th>22728</th>\n",
       "      <th>UCwgtORdDtUKhpjE1VBv6XfA</th>\n",
       "      <td>1</td>\n",
       "    </tr>\n",
       "    <tr>\n",
       "      <th>2021-09-01</th>\n",
       "      <th>NCT</th>\n",
       "      <th>10</th>\n",
       "      <th>2925418</th>\n",
       "      <th>454141</th>\n",
       "      <th>1416</th>\n",
       "      <th>22753</th>\n",
       "      <th>UCwgtORdDtUKhpjE1VBv6XfA</th>\n",
       "      <td>1</td>\n",
       "    </tr>\n",
       "  </tbody>\n",
       "</table>\n",
       "<p>60252 rows × 1 columns</p>\n",
       "</div>"
      ],
      "text/plain": [
       "                                                                                                                                                             0\n",
       "title                                              trending_date2 channelTitle categoryId view_count likes  dislikes comment_count channelId                  \n",
       "#1. [슈퍼리그] 챔스 종결? 드디어 창설된 슈퍼리그, 형태와 방식은?           2021-04-20     이스타TV        17         410982     7024   143      2901          UCn9mJ4htO64-1osMWYu9k5Q  1\n",
       "                                                   2021-04-21     이스타TV        17         438659     7132   163      3061          UCn9mJ4htO64-1osMWYu9k5Q  1\n",
       "                                                   2021-04-22     이스타TV        17         445622     7142   168      3067          UCn9mJ4htO64-1osMWYu9k5Q  1\n",
       "                                                   2021-04-23     이스타TV        17         447467     7149   169      3064          UCn9mJ4htO64-1osMWYu9k5Q  1\n",
       "                                                   2021-04-24     이스타TV        17         448458     7157   169      3080          UCn9mJ4htO64-1osMWYu9k5Q  1\n",
       "...                                                                                                                                                         ..\n",
       "🩸괴담회에 어서오세요🩸: 첫 번째 이야기 | WELCOME TO NCT’S HORRO... 2021-08-28     NCT          10         2807716    444897 1382     22544         UCwgtORdDtUKhpjE1VBv6XfA  1\n",
       "                                                   2021-08-29     NCT          10         2853725    448509 1412     22618         UCwgtORdDtUKhpjE1VBv6XfA  1\n",
       "                                                   2021-08-30     NCT          10         2883483    450691 1410     22700         UCwgtORdDtUKhpjE1VBv6XfA  1\n",
       "                                                   2021-08-31     NCT          10         2906631    452644 1414     22728         UCwgtORdDtUKhpjE1VBv6XfA  1\n",
       "                                                   2021-09-01     NCT          10         2925418    454141 1416     22753         UCwgtORdDtUKhpjE1VBv6XfA  1\n",
       "\n",
       "[60252 rows x 1 columns]"
      ]
     },
     "execution_count": 109,
     "metadata": {},
     "output_type": "execute_result"
    }
   ],
   "source": [
    "df.groupby(['title', 'trending_date2']).value_counts().to_frame()\n"
   ]
  },
  {
   "cell_type": "markdown",
   "id": "42edb166",
   "metadata": {},
   "source": [
    "20회(20일)이상 인기동영상 리스트에 포함된 동영상의 숫자는?"
   ]
  },
  {
   "cell_type": "code",
   "execution_count": null,
   "id": "b1d49464",
   "metadata": {},
   "outputs": [],
   "source": [
    "d"
   ]
  }
 ],
 "metadata": {
  "kernelspec": {
   "display_name": "Python 3 (ipykernel)",
   "language": "python",
   "name": "python3"
  },
  "language_info": {
   "codemirror_mode": {
    "name": "ipython",
    "version": 3
   },
   "file_extension": ".py",
   "mimetype": "text/x-python",
   "name": "python",
   "nbconvert_exporter": "python",
   "pygments_lexer": "ipython3",
   "version": "3.10.4"
  }
 },
 "nbformat": 4,
 "nbformat_minor": 5
}
